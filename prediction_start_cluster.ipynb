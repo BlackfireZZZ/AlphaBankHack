{
  "cells": [
    {
      "cell_type": "markdown",
      "id": "8b7bef09-9e86-4b19-bbb7-e0ccb7515328",
      "metadata": {
        "id": "8b7bef09-9e86-4b19-bbb7-e0ccb7515328"
      },
      "source": [
        "# Модель для предсказания start cluster\n",
        "\n",
        "Поскольку в тестовых данных около 34.5% пропусков в признаке \"start_cluster\", который является одним из первых по важности для предсказания итогового результата, нашей командой было принято решение обучить дополнительную модель для предсказания стартового кластера"
      ]
    },
    {
      "cell_type": "code",
      "id": "e0ddb399-18f4-4051-86c0-39f1c623eef5",
      "metadata": {
        "id": "e0ddb399-18f4-4051-86c0-39f1c623eef5",
        "ExecuteTime": {
          "end_time": "2025-05-17T08:21:25.113766Z",
          "start_time": "2025-05-17T08:21:22.048338Z"
        }
      },
      "source": [
        "import numpy as np\n",
        "import pandas as pd\n",
        "from sklearn.metrics import roc_auc_score\n",
        "from sklearn.model_selection import train_test_split"
      ],
      "outputs": [],
      "execution_count": 1
    },
    {
      "cell_type": "markdown",
      "id": "cbcf3aae-5417-42a3-9ed2-818b9aef0f2f",
      "metadata": {
        "id": "cbcf3aae-5417-42a3-9ed2-818b9aef0f2f"
      },
      "source": [
        "## Загрузка данных\n",
        "\n",
        "Будем учить нашу модель на обоих доступных датасетах (из тестового возьмем только те данные, где указан стартовый кластер)"
      ]
    },
    {
      "cell_type": "code",
      "id": "32c8b1b0-f95e-4cb5-bbc1-c0edb76568c1",
      "metadata": {
        "id": "32c8b1b0-f95e-4cb5-bbc1-c0edb76568c1",
        "ExecuteTime": {
          "end_time": "2025-05-17T08:21:29.467984Z",
          "start_time": "2025-05-17T08:21:28.389006Z"
        }
      },
      "source": [
        "train_df = pd.read_parquet(\"data/train_data.pqt\")\n",
        "test_df = pd.read_parquet(\"data/test_data.pqt\")"
      ],
      "outputs": [],
      "execution_count": 6
    },
    {
      "cell_type": "markdown",
      "source": [
        "Посмотрим на распределения стартового кластера в траин и тест датасетах"
      ],
      "metadata": {
        "id": "FZyVvo3msQVY"
      },
      "id": "FZyVvo3msQVY"
    },
    {
      "cell_type": "code",
      "source": [
        "train_df.start_cluster.value_counts(normalize=True, dropna=False)"
      ],
      "metadata": {
        "colab": {
          "base_uri": "https://localhost:8080/",
          "height": 649
        },
        "id": "IbDi3OyImhYn",
        "outputId": "caeb2d7f-c1c2-46bf-cbe0-0b6097244e0b"
      },
      "id": "IbDi3OyImhYn",
      "execution_count": 7,
      "outputs": [
        {
          "output_type": "execute_result",
          "data": {
            "text/plain": [
              "start_cluster\n",
              "{α}          0.626578\n",
              "{}           0.131338\n",
              "{α, η}       0.073040\n",
              "{α, γ}       0.054650\n",
              "{other}      0.053022\n",
              "{α, β}       0.016448\n",
              "{α, δ}       0.014228\n",
              "{α, ε}       0.009738\n",
              "{α, θ}       0.008280\n",
              "{α, ψ}       0.005000\n",
              "{α, μ}       0.002235\n",
              "{α, ε, η}    0.002012\n",
              "{α, ε, θ}    0.001418\n",
              "{α, λ}       0.001232\n",
              "{α, ε, ψ}    0.000623\n",
              "{λ}          0.000115\n",
              "{α, π}       0.000042\n",
              "Name: proportion, dtype: float64"
            ],
            "text/html": [
              "<div>\n",
              "<style scoped>\n",
              "    .dataframe tbody tr th:only-of-type {\n",
              "        vertical-align: middle;\n",
              "    }\n",
              "\n",
              "    .dataframe tbody tr th {\n",
              "        vertical-align: top;\n",
              "    }\n",
              "\n",
              "    .dataframe thead th {\n",
              "        text-align: right;\n",
              "    }\n",
              "</style>\n",
              "<table border=\"1\" class=\"dataframe\">\n",
              "  <thead>\n",
              "    <tr style=\"text-align: right;\">\n",
              "      <th></th>\n",
              "      <th>proportion</th>\n",
              "    </tr>\n",
              "    <tr>\n",
              "      <th>start_cluster</th>\n",
              "      <th></th>\n",
              "    </tr>\n",
              "  </thead>\n",
              "  <tbody>\n",
              "    <tr>\n",
              "      <th>{α}</th>\n",
              "      <td>0.626578</td>\n",
              "    </tr>\n",
              "    <tr>\n",
              "      <th>{}</th>\n",
              "      <td>0.131338</td>\n",
              "    </tr>\n",
              "    <tr>\n",
              "      <th>{α, η}</th>\n",
              "      <td>0.073040</td>\n",
              "    </tr>\n",
              "    <tr>\n",
              "      <th>{α, γ}</th>\n",
              "      <td>0.054650</td>\n",
              "    </tr>\n",
              "    <tr>\n",
              "      <th>{other}</th>\n",
              "      <td>0.053022</td>\n",
              "    </tr>\n",
              "    <tr>\n",
              "      <th>{α, β}</th>\n",
              "      <td>0.016448</td>\n",
              "    </tr>\n",
              "    <tr>\n",
              "      <th>{α, δ}</th>\n",
              "      <td>0.014228</td>\n",
              "    </tr>\n",
              "    <tr>\n",
              "      <th>{α, ε}</th>\n",
              "      <td>0.009738</td>\n",
              "    </tr>\n",
              "    <tr>\n",
              "      <th>{α, θ}</th>\n",
              "      <td>0.008280</td>\n",
              "    </tr>\n",
              "    <tr>\n",
              "      <th>{α, ψ}</th>\n",
              "      <td>0.005000</td>\n",
              "    </tr>\n",
              "    <tr>\n",
              "      <th>{α, μ}</th>\n",
              "      <td>0.002235</td>\n",
              "    </tr>\n",
              "    <tr>\n",
              "      <th>{α, ε, η}</th>\n",
              "      <td>0.002012</td>\n",
              "    </tr>\n",
              "    <tr>\n",
              "      <th>{α, ε, θ}</th>\n",
              "      <td>0.001418</td>\n",
              "    </tr>\n",
              "    <tr>\n",
              "      <th>{α, λ}</th>\n",
              "      <td>0.001232</td>\n",
              "    </tr>\n",
              "    <tr>\n",
              "      <th>{α, ε, ψ}</th>\n",
              "      <td>0.000623</td>\n",
              "    </tr>\n",
              "    <tr>\n",
              "      <th>{λ}</th>\n",
              "      <td>0.000115</td>\n",
              "    </tr>\n",
              "    <tr>\n",
              "      <th>{α, π}</th>\n",
              "      <td>0.000042</td>\n",
              "    </tr>\n",
              "  </tbody>\n",
              "</table>\n",
              "</div><br><label><b>dtype:</b> float64</label>"
            ]
          },
          "metadata": {},
          "execution_count": 7
        }
      ]
    },
    {
      "cell_type": "code",
      "source": [
        "test_df.start_cluster.value_counts(normalize=True, dropna=False)"
      ],
      "metadata": {
        "colab": {
          "base_uri": "https://localhost:8080/",
          "height": 680
        },
        "id": "26YHDdpNqgdo",
        "outputId": "50e76f52-bab2-4887-fa52-10203ba96f4d"
      },
      "id": "26YHDdpNqgdo",
      "execution_count": 8,
      "outputs": [
        {
          "output_type": "execute_result",
          "data": {
            "text/plain": [
              "start_cluster\n",
              "{α}          0.397232\n",
              "None         0.344685\n",
              "{}           0.097439\n",
              "{α, η}       0.046994\n",
              "{other}      0.036992\n",
              "{α, γ}       0.035637\n",
              "{α, β}       0.012509\n",
              "{α, δ}       0.009696\n",
              "{α, ε}       0.005587\n",
              "{α, θ}       0.004757\n",
              "{α, ψ}       0.003019\n",
              "{α, μ}       0.001868\n",
              "{α, ε, η}    0.001424\n",
              "{α, λ}       0.000889\n",
              "{α, ε, θ}    0.000800\n",
              "{α, ε, ψ}    0.000303\n",
              "{λ}          0.000155\n",
              "{α, π}       0.000014\n",
              "Name: proportion, dtype: float64"
            ],
            "text/html": [
              "<div>\n",
              "<style scoped>\n",
              "    .dataframe tbody tr th:only-of-type {\n",
              "        vertical-align: middle;\n",
              "    }\n",
              "\n",
              "    .dataframe tbody tr th {\n",
              "        vertical-align: top;\n",
              "    }\n",
              "\n",
              "    .dataframe thead th {\n",
              "        text-align: right;\n",
              "    }\n",
              "</style>\n",
              "<table border=\"1\" class=\"dataframe\">\n",
              "  <thead>\n",
              "    <tr style=\"text-align: right;\">\n",
              "      <th></th>\n",
              "      <th>proportion</th>\n",
              "    </tr>\n",
              "    <tr>\n",
              "      <th>start_cluster</th>\n",
              "      <th></th>\n",
              "    </tr>\n",
              "  </thead>\n",
              "  <tbody>\n",
              "    <tr>\n",
              "      <th>{α}</th>\n",
              "      <td>0.397232</td>\n",
              "    </tr>\n",
              "    <tr>\n",
              "      <th>None</th>\n",
              "      <td>0.344685</td>\n",
              "    </tr>\n",
              "    <tr>\n",
              "      <th>{}</th>\n",
              "      <td>0.097439</td>\n",
              "    </tr>\n",
              "    <tr>\n",
              "      <th>{α, η}</th>\n",
              "      <td>0.046994</td>\n",
              "    </tr>\n",
              "    <tr>\n",
              "      <th>{other}</th>\n",
              "      <td>0.036992</td>\n",
              "    </tr>\n",
              "    <tr>\n",
              "      <th>{α, γ}</th>\n",
              "      <td>0.035637</td>\n",
              "    </tr>\n",
              "    <tr>\n",
              "      <th>{α, β}</th>\n",
              "      <td>0.012509</td>\n",
              "    </tr>\n",
              "    <tr>\n",
              "      <th>{α, δ}</th>\n",
              "      <td>0.009696</td>\n",
              "    </tr>\n",
              "    <tr>\n",
              "      <th>{α, ε}</th>\n",
              "      <td>0.005587</td>\n",
              "    </tr>\n",
              "    <tr>\n",
              "      <th>{α, θ}</th>\n",
              "      <td>0.004757</td>\n",
              "    </tr>\n",
              "    <tr>\n",
              "      <th>{α, ψ}</th>\n",
              "      <td>0.003019</td>\n",
              "    </tr>\n",
              "    <tr>\n",
              "      <th>{α, μ}</th>\n",
              "      <td>0.001868</td>\n",
              "    </tr>\n",
              "    <tr>\n",
              "      <th>{α, ε, η}</th>\n",
              "      <td>0.001424</td>\n",
              "    </tr>\n",
              "    <tr>\n",
              "      <th>{α, λ}</th>\n",
              "      <td>0.000889</td>\n",
              "    </tr>\n",
              "    <tr>\n",
              "      <th>{α, ε, θ}</th>\n",
              "      <td>0.000800</td>\n",
              "    </tr>\n",
              "    <tr>\n",
              "      <th>{α, ε, ψ}</th>\n",
              "      <td>0.000303</td>\n",
              "    </tr>\n",
              "    <tr>\n",
              "      <th>{λ}</th>\n",
              "      <td>0.000155</td>\n",
              "    </tr>\n",
              "    <tr>\n",
              "      <th>{α, π}</th>\n",
              "      <td>0.000014</td>\n",
              "    </tr>\n",
              "  </tbody>\n",
              "</table>\n",
              "</div><br><label><b>dtype:</b> float64</label>"
            ]
          },
          "metadata": {},
          "execution_count": 8
        }
      ]
    },
    {
      "cell_type": "markdown",
      "id": "DCN4DEaNqjr2",
      "metadata": {
        "id": "DCN4DEaNqjr2"
      },
      "source": [
        "Обозначение категориальных признаков"
      ]
    },
    {
      "cell_type": "code",
      "id": "05a1edfe-fcca-4945-a00d-c0b1627d1718",
      "metadata": {
        "id": "05a1edfe-fcca-4945-a00d-c0b1627d1718",
        "ExecuteTime": {
          "end_time": "2025-05-17T08:21:30.123012Z",
          "start_time": "2025-05-17T08:21:30.117761Z"
        }
      },
      "source": [
        "cat_cols = [\n",
        "    \"channel_code\", \"city\", \"city_type\",\n",
        "    \"okved\", \"segment\",\n",
        "    \"index_city_code\", \"ogrn_month\", \"ogrn_year\",\n",
        "]"
      ],
      "outputs": [],
      "execution_count": 9
    },
    {
      "cell_type": "code",
      "id": "198295f2-78b7-41a0-b0fe-490de972beaf",
      "metadata": {
        "id": "198295f2-78b7-41a0-b0fe-490de972beaf",
        "ExecuteTime": {
          "end_time": "2025-05-17T08:21:31.661424Z",
          "start_time": "2025-05-17T08:21:30.240907Z"
        }
      },
      "source": [
        "train_df[cat_cols] = train_df[cat_cols].astype(\"category\")\n",
        "test_df[cat_cols] = test_df[cat_cols].astype(\"category\")"
      ],
      "outputs": [],
      "execution_count": 10
    },
    {
      "cell_type": "markdown",
      "source": [
        "Так как модель CatBoost поддерживает обработку пропусков только для числовых данных, то удалим строки, которые имеют пропуски в категориальных данных"
      ],
      "metadata": {
        "id": "1ROPWcjXswcl"
      },
      "id": "1ROPWcjXswcl"
    },
    {
      "cell_type": "code",
      "source": [
        "train_df.dropna(subset=cat_cols, inplace=True)\n",
        "test_df.dropna(subset=cat_cols, inplace=True)\n",
        "\n",
        "test_df.dropna(subset=[\"start_cluster\"], inplace=True)"
      ],
      "metadata": {
        "id": "12nf6_K8rYmT"
      },
      "id": "12nf6_K8rYmT",
      "execution_count": 11,
      "outputs": []
    },
    {
      "cell_type": "markdown",
      "source": [
        "Объединим датасеты"
      ],
      "metadata": {
        "id": "PUaNRjbVtfC2"
      },
      "id": "PUaNRjbVtfC2"
    },
    {
      "cell_type": "code",
      "source": [
        "X_train = train_df.drop([\"id\", \"date\", \"end_cluster\", \"start_cluster\"], axis=1)\n",
        "X_test = test_df.drop([\"id\", \"date\", \"start_cluster\"], axis=1)\n",
        "X = pd.concat([X_train, X_test], axis=0)\n",
        "y_train = train_df[\"start_cluster\"]\n",
        "y_test = test_df[\"start_cluster\"]\n",
        "y = pd.concat([y_train, y_test], axis=0)"
      ],
      "metadata": {
        "id": "yDg34e3bq7dm"
      },
      "id": "yDg34e3bq7dm",
      "execution_count": 12,
      "outputs": []
    },
    {
      "cell_type": "markdown",
      "id": "50RNyCgPtl6n",
      "metadata": {
        "id": "50RNyCgPtl6n"
      },
      "source": [
        "Создаем выборки для валидации и обучения"
      ]
    },
    {
      "cell_type": "code",
      "id": "2c0edf39-d716-48ca-a66c-936871ee5918",
      "metadata": {
        "id": "2c0edf39-d716-48ca-a66c-936871ee5918",
        "ExecuteTime": {
          "end_time": "2025-05-17T08:21:33.346205Z",
          "start_time": "2025-05-17T08:21:32.046275Z"
        }
      },
      "source": [
        "x_train, x_val, y_train, y_val = train_test_split(X, y,\n",
        "                                                  test_size=0.05,\n",
        "                                                  random_state=42)"
      ],
      "outputs": [],
      "execution_count": 13
    },
    {
      "cell_type": "markdown",
      "source": [
        "Размер нашего датасета:"
      ],
      "metadata": {
        "id": "rig0rVjDtjh0"
      },
      "id": "rig0rVjDtjh0"
    },
    {
      "cell_type": "code",
      "id": "IQYOL2WcGtLP",
      "metadata": {
        "colab": {
          "base_uri": "https://localhost:8080/"
        },
        "id": "IQYOL2WcGtLP",
        "outputId": "510c0681-917e-47ed-da0f-891f0757dd04",
        "ExecuteTime": {
          "end_time": "2025-05-17T08:21:33.514925Z",
          "start_time": "2025-05-17T08:21:33.505899Z"
        }
      },
      "source": [
        "print(train_df.shape)"
      ],
      "outputs": [
        {
          "output_type": "stream",
          "name": "stdout",
          "text": [
            "(235358, 93)\n"
          ]
        }
      ],
      "execution_count": 14
    },
    {
      "cell_type": "markdown",
      "id": "vkyL_GYgNMCL",
      "metadata": {
        "id": "vkyL_GYgNMCL"
      },
      "source": [
        "## Обучение модели"
      ]
    },
    {
      "cell_type": "code",
      "id": "9McNK6N_9BWC",
      "metadata": {
        "id": "9McNK6N_9BWC",
        "ExecuteTime": {
          "end_time": "2025-05-17T08:21:33.802969Z",
          "start_time": "2025-05-17T08:21:33.794389Z"
        }
      },
      "source": [
        "cat_features = [X.columns.get_loc(col) for col in cat_cols]"
      ],
      "outputs": [],
      "execution_count": 15
    },
    {
      "cell_type": "code",
      "id": "i3sqT1059J1I",
      "metadata": {
        "colab": {
          "base_uri": "https://localhost:8080/"
        },
        "id": "i3sqT1059J1I",
        "outputId": "09ecf6a8-3489-48c8-8456-69f9358e593f",
        "ExecuteTime": {
          "end_time": "2025-05-17T08:21:45.376641Z",
          "start_time": "2025-05-17T08:21:44.800529Z"
        }
      },
      "source": [
        "from catboost import CatBoostClassifier\n",
        "\n",
        "model = CatBoostClassifier(\n",
        "    iterations=6000,\n",
        "    learning_rate=0.02,\n",
        "    depth=8,\n",
        "    loss_function=\"MultiClass\",\n",
        "    eval_metric=\"MultiClass\",\n",
        "    verbose=100,\n",
        "    cat_features=cat_features,\n",
        "    random_seed=42,\n",
        "    task_type=\"GPU\",\n",
        ")\n",
        "\n",
        "model.fit(x_train, y_train, eval_set=(x_val, y_val), use_best_model=True, early_stopping_rounds=200)"
      ],
      "outputs": [
        {
          "output_type": "stream",
          "name": "stdout",
          "text": [
            "0:\tlearn: 2.6772543\ttest: 2.6781340\tbest: 2.6781340 (0)\ttotal: 357ms\tremaining: 35m 38s\n",
            "100:\tlearn: 1.0073577\ttest: 1.0096172\tbest: 1.0096172 (100)\ttotal: 12.6s\tremaining: 12m 16s\n",
            "200:\tlearn: 0.8937304\ttest: 0.8988884\tbest: 0.8988884 (200)\ttotal: 27.6s\tremaining: 13m 15s\n",
            "300:\tlearn: 0.8564396\ttest: 0.8647753\tbest: 0.8647753 (300)\ttotal: 39s\tremaining: 12m 18s\n",
            "400:\tlearn: 0.8326085\ttest: 0.8450310\tbest: 0.8450310 (400)\ttotal: 49.1s\tremaining: 11m 25s\n",
            "500:\tlearn: 0.8147146\ttest: 0.8309079\tbest: 0.8309079 (500)\ttotal: 57.6s\tremaining: 10m 32s\n",
            "600:\tlearn: 0.7988789\ttest: 0.8190748\tbest: 0.8190748 (600)\ttotal: 1m 7s\tremaining: 10m 3s\n",
            "700:\tlearn: 0.7849492\ttest: 0.8093215\tbest: 0.8093215 (700)\ttotal: 1m 17s\tremaining: 9m 45s\n",
            "800:\tlearn: 0.7729091\ttest: 0.8013062\tbest: 0.8013062 (800)\ttotal: 1m 28s\tremaining: 9m 32s\n",
            "900:\tlearn: 0.7617924\ttest: 0.7942725\tbest: 0.7942725 (900)\ttotal: 1m 38s\tremaining: 9m 14s\n",
            "1000:\tlearn: 0.7518266\ttest: 0.7880034\tbest: 0.7880034 (1000)\ttotal: 1m 46s\tremaining: 8m 53s\n",
            "1100:\tlearn: 0.7420234\ttest: 0.7820422\tbest: 0.7820422 (1100)\ttotal: 1m 56s\tremaining: 8m 37s\n",
            "1200:\tlearn: 0.7329292\ttest: 0.7766588\tbest: 0.7766588 (1200)\ttotal: 2m 6s\tremaining: 8m 23s\n",
            "1300:\tlearn: 0.7237324\ttest: 0.7712451\tbest: 0.7712451 (1300)\ttotal: 2m 15s\tremaining: 8m 10s\n",
            "1400:\tlearn: 0.7151906\ttest: 0.7664383\tbest: 0.7664383 (1400)\ttotal: 2m 25s\tremaining: 7m 56s\n",
            "1500:\tlearn: 0.7066838\ttest: 0.7616234\tbest: 0.7616234 (1500)\ttotal: 2m 34s\tremaining: 7m 43s\n",
            "1600:\tlearn: 0.6989045\ttest: 0.7573041\tbest: 0.7573041 (1600)\ttotal: 2m 44s\tremaining: 7m 32s\n",
            "1700:\tlearn: 0.6910404\ttest: 0.7528662\tbest: 0.7528662 (1700)\ttotal: 2m 54s\tremaining: 7m 20s\n",
            "1800:\tlearn: 0.6841737\ttest: 0.7490377\tbest: 0.7490377 (1800)\ttotal: 3m 3s\tremaining: 7m 8s\n",
            "1900:\tlearn: 0.6768440\ttest: 0.7448271\tbest: 0.7448271 (1900)\ttotal: 3m 12s\tremaining: 6m 55s\n",
            "2000:\tlearn: 0.6699368\ttest: 0.7411261\tbest: 0.7411261 (2000)\ttotal: 3m 22s\tremaining: 6m 44s\n",
            "2100:\tlearn: 0.6630037\ttest: 0.7373586\tbest: 0.7373586 (2100)\ttotal: 3m 32s\tremaining: 6m 34s\n",
            "2200:\tlearn: 0.6564446\ttest: 0.7337681\tbest: 0.7337681 (2200)\ttotal: 3m 42s\tremaining: 6m 23s\n",
            "2300:\tlearn: 0.6503915\ttest: 0.7305041\tbest: 0.7305041 (2300)\ttotal: 3m 51s\tremaining: 6m 12s\n",
            "2400:\tlearn: 0.6445564\ttest: 0.7274195\tbest: 0.7274195 (2400)\ttotal: 4m\tremaining: 6m\n",
            "2500:\tlearn: 0.6384427\ttest: 0.7242298\tbest: 0.7242298 (2500)\ttotal: 4m 10s\tremaining: 5m 50s\n",
            "2600:\tlearn: 0.6325864\ttest: 0.7211240\tbest: 0.7211240 (2600)\ttotal: 4m 19s\tremaining: 5m 39s\n",
            "2700:\tlearn: 0.6269009\ttest: 0.7181289\tbest: 0.7181289 (2700)\ttotal: 4m 29s\tremaining: 5m 29s\n",
            "2800:\tlearn: 0.6213659\ttest: 0.7152024\tbest: 0.7152024 (2800)\ttotal: 4m 38s\tremaining: 5m 17s\n",
            "2900:\tlearn: 0.6157379\ttest: 0.7122793\tbest: 0.7122793 (2900)\ttotal: 4m 48s\tremaining: 5m 7s\n",
            "3000:\tlearn: 0.6103023\ttest: 0.7093541\tbest: 0.7093541 (3000)\ttotal: 4m 58s\tremaining: 4m 57s\n",
            "3100:\tlearn: 0.6051302\ttest: 0.7067215\tbest: 0.7067215 (3100)\ttotal: 5m 7s\tremaining: 4m 47s\n",
            "3200:\tlearn: 0.5998124\ttest: 0.7038285\tbest: 0.7038285 (3200)\ttotal: 5m 17s\tremaining: 4m 37s\n",
            "3300:\tlearn: 0.5947722\ttest: 0.7012558\tbest: 0.7012558 (3300)\ttotal: 5m 26s\tremaining: 4m 26s\n",
            "3400:\tlearn: 0.5898341\ttest: 0.6986894\tbest: 0.6986894 (3400)\ttotal: 5m 36s\tremaining: 4m 17s\n",
            "3500:\tlearn: 0.5846657\ttest: 0.6960564\tbest: 0.6960564 (3500)\ttotal: 5m 46s\tremaining: 4m 7s\n",
            "3600:\tlearn: 0.5798792\ttest: 0.6934868\tbest: 0.6934868 (3600)\ttotal: 5m 56s\tremaining: 3m 57s\n",
            "3700:\tlearn: 0.5750196\ttest: 0.6907912\tbest: 0.6907912 (3700)\ttotal: 6m 5s\tremaining: 3m 46s\n",
            "3800:\tlearn: 0.5703103\ttest: 0.6883253\tbest: 0.6883253 (3800)\ttotal: 6m 14s\tremaining: 3m 36s\n",
            "3900:\tlearn: 0.5658303\ttest: 0.6859707\tbest: 0.6859707 (3900)\ttotal: 6m 24s\tremaining: 3m 27s\n",
            "4000:\tlearn: 0.5611484\ttest: 0.6832716\tbest: 0.6832716 (4000)\ttotal: 6m 34s\tremaining: 3m 17s\n",
            "4100:\tlearn: 0.5564126\ttest: 0.6807740\tbest: 0.6807740 (4100)\ttotal: 6m 44s\tremaining: 3m 7s\n",
            "4200:\tlearn: 0.5521988\ttest: 0.6785858\tbest: 0.6785858 (4200)\ttotal: 6m 53s\tremaining: 2m 57s\n",
            "4300:\tlearn: 0.5475980\ttest: 0.6761713\tbest: 0.6761713 (4300)\ttotal: 7m 3s\tremaining: 2m 47s\n",
            "4400:\tlearn: 0.5430276\ttest: 0.6738737\tbest: 0.6738737 (4400)\ttotal: 7m 13s\tremaining: 2m 37s\n",
            "4500:\tlearn: 0.5384324\ttest: 0.6715287\tbest: 0.6715287 (4500)\ttotal: 7m 23s\tremaining: 2m 27s\n",
            "4600:\tlearn: 0.5340211\ttest: 0.6692962\tbest: 0.6692962 (4600)\ttotal: 7m 33s\tremaining: 2m 17s\n",
            "4700:\tlearn: 0.5297584\ttest: 0.6671272\tbest: 0.6671272 (4700)\ttotal: 7m 42s\tremaining: 2m 7s\n",
            "4800:\tlearn: 0.5253761\ttest: 0.6648217\tbest: 0.6648217 (4800)\ttotal: 7m 52s\tremaining: 1m 58s\n",
            "4900:\tlearn: 0.5212778\ttest: 0.6626229\tbest: 0.6626229 (4900)\ttotal: 8m 2s\tremaining: 1m 48s\n",
            "5000:\tlearn: 0.5172179\ttest: 0.6605949\tbest: 0.6605949 (5000)\ttotal: 8m 12s\tremaining: 1m 38s\n",
            "5100:\tlearn: 0.5133318\ttest: 0.6586069\tbest: 0.6586069 (5100)\ttotal: 8m 22s\tremaining: 1m 28s\n",
            "5200:\tlearn: 0.5090735\ttest: 0.6562223\tbest: 0.6562223 (5200)\ttotal: 8m 31s\tremaining: 1m 18s\n",
            "5300:\tlearn: 0.5051748\ttest: 0.6542168\tbest: 0.6542168 (5300)\ttotal: 8m 41s\tremaining: 1m 8s\n",
            "5400:\tlearn: 0.5016060\ttest: 0.6523314\tbest: 0.6523314 (5400)\ttotal: 8m 51s\tremaining: 59s\n",
            "5500:\tlearn: 0.4976437\ttest: 0.6502113\tbest: 0.6502113 (5500)\ttotal: 9m 1s\tremaining: 49.1s\n",
            "5600:\tlearn: 0.4938274\ttest: 0.6482568\tbest: 0.6482568 (5600)\ttotal: 9m 11s\tremaining: 39.3s\n",
            "5700:\tlearn: 0.4900337\ttest: 0.6461392\tbest: 0.6461392 (5700)\ttotal: 9m 20s\tremaining: 29.4s\n",
            "5800:\tlearn: 0.4865268\ttest: 0.6443138\tbest: 0.6443138 (5800)\ttotal: 9m 30s\tremaining: 19.6s\n",
            "5900:\tlearn: 0.4828399\ttest: 0.6422398\tbest: 0.6422398 (5900)\ttotal: 9m 41s\tremaining: 9.75s\n",
            "5999:\tlearn: 0.4792933\ttest: 0.6403673\tbest: 0.6403673 (5999)\ttotal: 9m 51s\tremaining: 0us\n",
            "bestTest = 0.6403673313\n",
            "bestIteration = 5999\n"
          ]
        },
        {
          "output_type": "execute_result",
          "data": {
            "text/plain": [
              "<catboost.core.CatBoostClassifier at 0x7f9cfb922090>"
            ]
          },
          "metadata": {},
          "execution_count": 17
        }
      ],
      "execution_count": 17
    },
    {
      "cell_type": "markdown",
      "source": [
        "Сохраним нашу обученную модель"
      ],
      "metadata": {
        "id": "-kRw7TRft1JO"
      },
      "id": "-kRw7TRft1JO"
    },
    {
      "cell_type": "code",
      "source": [
        "model.save_model(\"models/catboost_for_start_cluster_model.cbm\")"
      ],
      "metadata": {
        "id": "06gPtTNtNZOo",
        "ExecuteTime": {
          "end_time": "2025-05-17T08:21:45.914692Z",
          "start_time": "2025-05-17T08:21:45.429373Z"
        }
      },
      "id": "06gPtTNtNZOo",
      "outputs": [],
      "execution_count": 18
    }
  ],
  "metadata": {
    "accelerator": "GPU",
    "colab": {
      "gpuType": "T4",
      "provenance": []
    },
    "kernelspec": {
      "display_name": "Python 3 (ipykernel)",
      "language": "python",
      "name": "python3"
    },
    "language_info": {
      "codemirror_mode": {
        "name": "ipython",
        "version": 3
      },
      "file_extension": ".py",
      "mimetype": "text/x-python",
      "name": "python",
      "nbconvert_exporter": "python",
      "pygments_lexer": "ipython3",
      "version": "3.7.12"
    }
  },
  "nbformat": 4,
  "nbformat_minor": 5
}
