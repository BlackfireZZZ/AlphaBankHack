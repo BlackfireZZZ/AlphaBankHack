{
 "cells": [
  {
   "cell_type": "code",
   "execution_count": 24,
   "outputs": [],
   "source": "import pandas as pd",
   "metadata": {
    "collapsed": false,
    "ExecuteTime": {
     "end_time": "2025-05-18T11:58:41.615632300Z",
     "start_time": "2025-05-18T11:58:41.592897300Z"
    }
   },
   "id": "d86592243389602f"
  },
  {
   "cell_type": "code",
   "execution_count": 25,
   "outputs": [
    {
     "name": "stdout",
     "output_type": "stream",
     "text": [
      "Requirement already satisfied: catboost in c:\\programdata\\anaconda3\\envs\\ml_lyceum\\lib\\site-packages (1.2.3)\n",
      "Requirement already satisfied: graphviz in c:\\programdata\\anaconda3\\envs\\ml_lyceum\\lib\\site-packages (from catboost) (0.20.1)\n",
      "Requirement already satisfied: matplotlib in c:\\programdata\\anaconda3\\envs\\ml_lyceum\\lib\\site-packages (from catboost) (3.9.2)\n",
      "Requirement already satisfied: numpy>=1.16.0 in c:\\programdata\\anaconda3\\envs\\ml_lyceum\\lib\\site-packages (from catboost) (1.26.4)\n",
      "Requirement already satisfied: pandas>=0.24 in c:\\programdata\\anaconda3\\envs\\ml_lyceum\\lib\\site-packages (from catboost) (2.2.3)\n",
      "Requirement already satisfied: scipy in c:\\programdata\\anaconda3\\envs\\ml_lyceum\\lib\\site-packages (from catboost) (1.14.1)\n",
      "Requirement already satisfied: plotly in c:\\programdata\\anaconda3\\envs\\ml_lyceum\\lib\\site-packages (from catboost) (5.24.1)\n",
      "Requirement already satisfied: six in c:\\programdata\\anaconda3\\envs\\ml_lyceum\\lib\\site-packages (from catboost) (1.16.0)\n",
      "Requirement already satisfied: python-dateutil>=2.8.2 in c:\\programdata\\anaconda3\\envs\\ml_lyceum\\lib\\site-packages (from pandas>=0.24->catboost) (2.9.0.post0)\n",
      "Requirement already satisfied: pytz>=2020.1 in c:\\programdata\\anaconda3\\envs\\ml_lyceum\\lib\\site-packages (from pandas>=0.24->catboost) (2024.1)\n",
      "Requirement already satisfied: tzdata>=2022.7 in c:\\programdata\\anaconda3\\envs\\ml_lyceum\\lib\\site-packages (from pandas>=0.24->catboost) (2023.3)\n",
      "Requirement already satisfied: contourpy>=1.0.1 in c:\\programdata\\anaconda3\\envs\\ml_lyceum\\lib\\site-packages (from matplotlib->catboost) (1.3.1)\n",
      "Requirement already satisfied: cycler>=0.10 in c:\\programdata\\anaconda3\\envs\\ml_lyceum\\lib\\site-packages (from matplotlib->catboost) (0.11.0)\n",
      "Requirement already satisfied: fonttools>=4.22.0 in c:\\programdata\\anaconda3\\envs\\ml_lyceum\\lib\\site-packages (from matplotlib->catboost) (4.51.0)\n",
      "Requirement already satisfied: kiwisolver>=1.3.1 in c:\\programdata\\anaconda3\\envs\\ml_lyceum\\lib\\site-packages (from matplotlib->catboost) (1.4.4)\n",
      "Requirement already satisfied: packaging>=20.0 in c:\\programdata\\anaconda3\\envs\\ml_lyceum\\lib\\site-packages (from matplotlib->catboost) (24.1)\n",
      "Requirement already satisfied: pillow>=8 in c:\\programdata\\anaconda3\\envs\\ml_lyceum\\lib\\site-packages (from matplotlib->catboost) (11.0.0)\n",
      "Requirement already satisfied: pyparsing>=2.3.1 in c:\\programdata\\anaconda3\\envs\\ml_lyceum\\lib\\site-packages (from matplotlib->catboost) (3.2.0)\n",
      "Requirement already satisfied: tenacity>=6.2.0 in c:\\programdata\\anaconda3\\envs\\ml_lyceum\\lib\\site-packages (from plotly->catboost) (9.0.0)\n"
     ]
    }
   ],
   "source": [
    "!pip install catboost"
   ],
   "metadata": {
    "collapsed": false,
    "ExecuteTime": {
     "end_time": "2025-05-18T11:58:44.669064Z",
     "start_time": "2025-05-18T11:58:41.601924700Z"
    }
   },
   "id": "d98bf7f6ba7b11bb"
  },
  {
   "cell_type": "code",
   "execution_count": 26,
   "outputs": [
    {
     "name": "stderr",
     "output_type": "stream",
     "text": [
      "\"grep\" �� ���� ����७��� ��� ���譥�\n",
      "��������, �ᯮ��塞�� �ணࠬ��� ��� ������ 䠩���.\n"
     ]
    }
   ],
   "source": [
    "!pip freeze | grep \"numpy\\|pandas\\|scikit-learn\""
   ],
   "metadata": {
    "collapsed": false,
    "ExecuteTime": {
     "end_time": "2025-05-18T11:58:44.848218Z",
     "start_time": "2025-05-18T11:58:44.643832800Z"
    }
   },
   "id": "ebf05d6641c3893d"
  },
  {
   "cell_type": "code",
   "execution_count": 27,
   "outputs": [],
   "source": [
    "# загружаем данные\n",
    "train_df = pd.read_parquet(\"data/train_data.pqt\")\n",
    "test_df = pd.read_parquet(\"data/test_data.pqt\")"
   ],
   "metadata": {
    "collapsed": false,
    "ExecuteTime": {
     "end_time": "2025-05-18T11:58:46.724231Z",
     "start_time": "2025-05-18T11:58:44.844538600Z"
    }
   },
   "id": "e533cb5b7447c6b1"
  },
  {
   "cell_type": "code",
   "execution_count": 28,
   "outputs": [],
   "source": [
    "cat_cols = [\n",
    "    \"channel_code\", \"city\", \"city_type\",\n",
    "    \"okved\", \"segment\", \"start_cluster\",\n",
    "    \"index_city_code\", \"ogrn_month\", \"ogrn_year\",\n",
    "]"
   ],
   "metadata": {
    "collapsed": false,
    "ExecuteTime": {
     "end_time": "2025-05-18T11:58:46.724756300Z",
     "start_time": "2025-05-18T11:58:46.687962900Z"
    }
   },
   "id": "d2b91e0b382ed9ef"
  },
  {
   "cell_type": "code",
   "execution_count": 29,
   "outputs": [],
   "source": [
    "# заполняем пропуски в категориальных признаках\n",
    "for col in cat_cols:\n",
    "    train_df[col] = train_df[col].astype(str).fillna(\"missing\")\n",
    "    test_df[col] = test_df[col].astype(str).fillna(\"missing\")"
   ],
   "metadata": {
    "collapsed": false,
    "ExecuteTime": {
     "end_time": "2025-05-18T11:58:47.241537400Z",
     "start_time": "2025-05-18T11:58:46.692962700Z"
    }
   },
   "id": "e0c8c70a503bba25"
  },
  {
   "cell_type": "code",
   "execution_count": 30,
   "outputs": [],
   "source": [
    "X = train_df.drop([\"id\", \"date\", \"end_cluster\"], axis=1)\n",
    "y = train_df[\"end_cluster\"]"
   ],
   "metadata": {
    "collapsed": false,
    "ExecuteTime": {
     "end_time": "2025-05-18T11:58:47.403149800Z",
     "start_time": "2025-05-18T11:58:47.208670900Z"
    }
   },
   "id": "8140172401a524f9"
  },
  {
   "cell_type": "code",
   "execution_count": 31,
   "outputs": [],
   "source": [
    "# отобранные по feature importance признаки\n",
    "\n",
    "features_new = ['balance_amt_min', 'balance_amt_day_avg', 'channel_code', 'city',\n",
    "       'city_type', 'index_city_code', 'ogrn_days_end_month',\n",
    "       'ogrn_days_end_quarter', 'ogrn_month', 'ogrn_year', 'ogrn_exist_months',\n",
    "       'okved', 'segment', 'cnt_b_oper_1m', 'sum_a_oper_3m', 'cnt_a_oper_3m',\n",
    "       'cnt_b_oper_3m', 'cnt_c_oper_3m', 'sum_deb_d_oper_3m',\n",
    "       'cnt_deb_d_oper_3m', 'sum_cred_d_oper_3m', 'cnt_cred_d_oper_3m',\n",
    "       'sum_cred_e_oper_3m', 'cnt_days_cred_e_oper_3m', 'sum_deb_f_oper_3m',\n",
    "       'cnt_days_deb_f_oper_3m', 'sum_cred_f_oper_3m', 'cnt_cred_f_oper_3m',\n",
    "       'cnt_days_cred_f_oper_3m', 'cnt_deb_g_oper_3m',\n",
    "       'cnt_days_deb_g_oper_3m', 'sum_cred_g_oper_3m', 'cnt_cred_g_oper_3m',\n",
    "       'cnt_days_cred_g_oper_3m', 'cnt_deb_h_oper_3m',\n",
    "       'cnt_days_deb_h_oper_3m', 'sum_cred_h_oper_3m', 'cnt_cred_h_oper_3m',\n",
    "       'cnt_days_cred_h_oper_3m', 'start_cluster']"
   ],
   "metadata": {
    "collapsed": false,
    "ExecuteTime": {
     "end_time": "2025-05-18T11:58:47.408733Z",
     "start_time": "2025-05-18T11:58:47.405777300Z"
    }
   },
   "id": "80f6ac243545e99e"
  },
  {
   "cell_type": "code",
   "source": [
    "X = X[features_new].copy()"
   ],
   "metadata": {
    "collapsed": false
   },
   "id": "36843ab9b7915d49",
   "outputs": [],
   "execution_count": null
  },
  {
   "metadata": {},
   "cell_type": "markdown",
   "source": "Перемножение важных признаков между собой может показать модели новые зависимости и связи между признаками, что (чаще всего) положительно сказывается на точности предсказаний.",
   "id": "a158582e1f34771e"
  },
  {
   "cell_type": "code",
   "source": [
    "from catboost import CatBoostClassifier\n",
    "from itertools import combinations\n",
    "from sklearn.model_selection import train_test_split\n",
    "\n",
    "num_cols = X.select_dtypes(include=['number']).columns\n",
    "\n",
    "# перемножаем числовые признаки\n",
    "for col1, col2 in combinations(num_cols, 2):\n",
    "    new_col = f\"{col1}_x_{col2}\"\n",
    "    X[new_col] = X[col1] * X[col2]\n",
    "\n",
    "cat_cols = X.select_dtypes(include=['object', 'category']).columns.tolist()"
   ],
   "metadata": {
    "collapsed": false
   },
   "id": "b9b5b685fc03e311",
   "outputs": [],
   "execution_count": null
  },
  {
   "cell_type": "code",
   "source": "X.shape",
   "metadata": {
    "collapsed": false
   },
   "id": "5e545be8a2c7e42a",
   "outputs": [],
   "execution_count": null
  },
  {
   "metadata": {},
   "cell_type": "markdown",
   "source": "Обучим CatBoost на новых признаках. Обучение будет длиться очень долго (много данных и признаков), поэтому ограничим размер обучающей выборки и количество итераций. Для определения ключевых признаков модели вполне достаточно 300 итераций.",
   "id": "4b846296cc8e7d16"
  },
  {
   "cell_type": "code",
   "source": [
    "X_train, X_test, y_train, y_test = train_test_split(X, y, stratify=y, train_size=100000, random_state=42)\n",
    "\n",
    "model = CatBoostClassifier(\n",
    "    iterations=400,\n",
    "    learning_rate=0.2,\n",
    "    depth=6,\n",
    "    loss_function='MultiClass',\n",
    "    eval_metric='Accuracy',\n",
    "    verbose=50,\n",
    "    random_state=42,\n",
    "    task_type='GPU'\n",
    ")\n",
    "\n",
    "model.fit(X_train, y_train, cat_features=cat_cols)"
   ],
   "metadata": {
    "collapsed": false
   },
   "id": "6b0273a7af0af75b",
   "outputs": [],
   "execution_count": null
  },
  {
   "metadata": {},
   "cell_type": "code",
   "source": [
    "# вычисляем важность новых признаков\n",
    "feature_importances = model.get_feature_importance(prettified=True)\n",
    "print(feature_importances.sort_values('Importances', ascending=False).head(20))"
   ],
   "id": "2c4df70e03b0617d",
   "outputs": [],
   "execution_count": null
  },
  {
   "cell_type": "code",
   "execution_count": 36,
   "outputs": [],
   "source": [
    "feature_importances.to_csv(\"multiply_feature_importances.csv\", index=False)"
   ],
   "metadata": {
    "collapsed": false,
    "ExecuteTime": {
     "end_time": "2025-05-18T12:30:03.679283300Z",
     "start_time": "2025-05-18T12:30:03.639821700Z"
    }
   },
   "id": "165cf8a6ff805f5a"
  },
  {
   "cell_type": "code",
   "execution_count": 37,
   "outputs": [
    {
     "data": {
      "text/plain": "                                           Feature Id  Importances\n0                                       start_cluster    21.720875\n1                                               okved     6.340600\n2                                             segment     5.101557\n3                                        channel_code     4.048093\n4                                                city     3.977410\n..                                                ...          ...\n500            cnt_cred_g_oper_3m_x_cnt_deb_h_oper_3m     0.000000\n501       cnt_cred_g_oper_3m_x_cnt_days_deb_h_oper_3m     0.000000\n502           cnt_cred_g_oper_3m_x_sum_cred_h_oper_3m     0.000000\n503  cnt_days_deb_h_oper_3m_x_cnt_days_cred_h_oper_3m     0.000000\n504      cnt_cred_h_oper_3m_x_cnt_days_cred_h_oper_3m     0.000000\n\n[505 rows x 2 columns]",
      "text/html": "<div>\n<style scoped>\n    .dataframe tbody tr th:only-of-type {\n        vertical-align: middle;\n    }\n\n    .dataframe tbody tr th {\n        vertical-align: top;\n    }\n\n    .dataframe thead th {\n        text-align: right;\n    }\n</style>\n<table border=\"1\" class=\"dataframe\">\n  <thead>\n    <tr style=\"text-align: right;\">\n      <th></th>\n      <th>Feature Id</th>\n      <th>Importances</th>\n    </tr>\n  </thead>\n  <tbody>\n    <tr>\n      <th>0</th>\n      <td>start_cluster</td>\n      <td>21.720875</td>\n    </tr>\n    <tr>\n      <th>1</th>\n      <td>okved</td>\n      <td>6.340600</td>\n    </tr>\n    <tr>\n      <th>2</th>\n      <td>segment</td>\n      <td>5.101557</td>\n    </tr>\n    <tr>\n      <th>3</th>\n      <td>channel_code</td>\n      <td>4.048093</td>\n    </tr>\n    <tr>\n      <th>4</th>\n      <td>city</td>\n      <td>3.977410</td>\n    </tr>\n    <tr>\n      <th>...</th>\n      <td>...</td>\n      <td>...</td>\n    </tr>\n    <tr>\n      <th>500</th>\n      <td>cnt_cred_g_oper_3m_x_cnt_deb_h_oper_3m</td>\n      <td>0.000000</td>\n    </tr>\n    <tr>\n      <th>501</th>\n      <td>cnt_cred_g_oper_3m_x_cnt_days_deb_h_oper_3m</td>\n      <td>0.000000</td>\n    </tr>\n    <tr>\n      <th>502</th>\n      <td>cnt_cred_g_oper_3m_x_sum_cred_h_oper_3m</td>\n      <td>0.000000</td>\n    </tr>\n    <tr>\n      <th>503</th>\n      <td>cnt_days_deb_h_oper_3m_x_cnt_days_cred_h_oper_3m</td>\n      <td>0.000000</td>\n    </tr>\n    <tr>\n      <th>504</th>\n      <td>cnt_cred_h_oper_3m_x_cnt_days_cred_h_oper_3m</td>\n      <td>0.000000</td>\n    </tr>\n  </tbody>\n</table>\n<p>505 rows × 2 columns</p>\n</div>"
     },
     "execution_count": 37,
     "metadata": {},
     "output_type": "execute_result"
    }
   ],
   "source": [
    "feature_importances"
   ],
   "metadata": {
    "collapsed": false,
    "ExecuteTime": {
     "end_time": "2025-05-18T12:30:11.128723900Z",
     "start_time": "2025-05-18T12:30:11.112502300Z"
    }
   },
   "id": "fea23f0b289e4f52"
  }
 ],
 "metadata": {
  "kernelspec": {
   "display_name": "Python 3",
   "language": "python",
   "name": "python3"
  },
  "language_info": {
   "codemirror_mode": {
    "name": "ipython",
    "version": 2
   },
   "file_extension": ".py",
   "mimetype": "text/x-python",
   "name": "python",
   "nbconvert_exporter": "python",
   "pygments_lexer": "ipython2",
   "version": "2.7.6"
  }
 },
 "nbformat": 4,
 "nbformat_minor": 5
}
